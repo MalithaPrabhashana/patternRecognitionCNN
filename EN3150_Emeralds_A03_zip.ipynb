{
  "nbformat": 4,
  "nbformat_minor": 0,
  "metadata": {
    "colab": {
      "provenance": [],
      "authorship_tag": "ABX9TyPwiTzydIxsG3mKFx3/zCxV",
      "include_colab_link": true
    },
    "kernelspec": {
      "name": "python3",
      "display_name": "Python 3"
    },
    "language_info": {
      "name": "python"
    }
  },
  "cells": [
    {
      "cell_type": "markdown",
      "metadata": {
        "id": "view-in-github",
        "colab_type": "text"
      },
      "source": [
        "<a href=\"https://colab.research.google.com/github/MalithaPrabhashana/patternRecognitionCNN/blob/main/EN3150_Emeralds_A03_zip.ipynb\" target=\"_parent\"><img src=\"https://colab.research.google.com/assets/colab-badge.svg\" alt=\"Open In Colab\"/></a>"
      ]
    },
    {
      "cell_type": "code",
      "source": [
        "# Uncompress the .Z file using shell command\n",
        "!uncompress faces.tar.Z  # This will create 'faces.tar'"
      ],
      "metadata": {
        "id": "vUqxtsrt_csE"
      },
      "execution_count": null,
      "outputs": []
    },
    {
      "cell_type": "code",
      "source": [
        "import tarfile\n",
        "import os\n",
        "\n",
        "# Path to the faces.tar file\n",
        "tar_file_path = 'faces.tar'  # Update the path accordingly\n",
        "\n",
        "# Extract the .tar file\n",
        "with tarfile.open(tar_file_path, 'r') as tar_ref:\n",
        "    tar_ref.extractall('faces')\n",
        "\n",
        "# Confirm extraction\n",
        "os.listdir('faces')"
      ],
      "metadata": {
        "colab": {
          "base_uri": "https://localhost:8080/"
        },
        "id": "C58Oa8Xh_tOR",
        "outputId": "4f2710aa-137f-4443-cdac-a5e1be60dcb7"
      },
      "execution_count": null,
      "outputs": [
        {
          "output_type": "execute_result",
          "data": {
            "text/plain": [
              "['faces']"
            ]
          },
          "metadata": {},
          "execution_count": 10
        }
      ]
    },
    {
      "cell_type": "code",
      "source": [
        "from PIL import Image\n",
        "import matplotlib.pyplot as plt\n",
        "import os\n",
        "\n",
        "# Path to one of the folders with face images\n",
        "folder_path = 'faces/faces/at33'  # Update this with one of the actual folders\n",
        "\n",
        "# Load a .pgm image from the folder\n",
        "img_path = os.path.join(folder_path, 'at33_left_angry_open.pgm')  # Update with a sample image file\n",
        "img = Image.open(img_path)\n",
        "\n",
        "# Display the image\n",
        "plt.imshow(img, cmap='gray')\n",
        "plt.axis('off')  # Hide axes\n",
        "plt.show()"
      ],
      "metadata": {
        "colab": {
          "base_uri": "https://localhost:8080/",
          "height": 406
        },
        "id": "ECywuB7T_u9q",
        "outputId": "ea12ea30-1fe8-4dcf-a4e1-04c3a8b18645"
      },
      "execution_count": null,
      "outputs": [
        {
          "output_type": "display_data",
          "data": {
            "text/plain": [
              "<Figure size 640x480 with 1 Axes>"
            ],
            "image/png": "[encoded data removed]"
          },
          "metadata": {}
        }
      ]
    },
    {
      "cell_type": "code",
      "source": [
        "import numpy as np\n",
        "\n",
        "img_num = np.array(img)\n",
        "img_num.shape"
      ],
      "metadata": {
        "colab": {
          "base_uri": "https://localhost:8080/"
        },
        "id": "o6nZDPLcAVvG",
        "outputId": "9eb21aa2-f968-440a-c9a3-a912b6a4a77f"
      },
      "execution_count": null,
      "outputs": [
        {
          "output_type": "execute_result",
          "data": {
            "text/plain": [
              "(120, 128)"
            ]
          },
          "metadata": {},
          "execution_count": 23
        }
      ]
    },
    {
      "cell_type": "code",
      "source": [
        "import os\n",
        "\n",
        "# Path to the folder\n",
        "folder_path = 'faces/faces/at33'  # Update the path to your folder\n",
        "\n",
        "# Count the number of files in the folder\n",
        "file_count = len([f for f in os.listdir(folder_path) if os.path.isfile(os.path.join(folder_path, f))])\n",
        "\n",
        "print(f\"Number of files in the folder: {file_count}\")"
      ],
      "metadata": {
        "colab": {
          "base_uri": "https://localhost:8080/"
        },
        "id": "UxK0LUSKB79O",
        "outputId": "5678a61e-f851-4eaf-98c3-e70eb4ea926b"
      },
      "execution_count": null,
      "outputs": [
        {
          "output_type": "stream",
          "name": "stdout",
          "text": [
            "Number of files in the folder: 96\n"
          ]
        }
      ]
    }
  ]
}